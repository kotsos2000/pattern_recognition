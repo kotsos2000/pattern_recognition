{
 "cells": [
  {
   "cell_type": "markdown",
   "id": "52cb1842",
   "metadata": {},
   "source": [
    "# Αναγνώριση Προτύπων\n",
    "## Bonus Assignment , Κώστας Μαυρογιαννάκης 9789"
   ]
  },
  {
   "cell_type": "code",
   "execution_count": 1,
   "id": "f21e3ba0",
   "metadata": {},
   "outputs": [],
   "source": [
    "import numpy as np\n",
    "from sklearn import preprocessing\n",
    "from sklearn.utils import resample\n",
    "from sklearn.neighbors import KNeighborsClassifier\n",
    "from sklearn.svm import SVC\n",
    "from sklearn.gaussian_process import GaussianProcessClassifier\n",
    "from sklearn.gaussian_process.kernels import RBF\n",
    "from sklearn.tree import DecisionTreeClassifier\n",
    "from sklearn.ensemble import RandomForestClassifier, AdaBoostClassifier\n",
    "from sklearn.naive_bayes import GaussianNB\n",
    "from sklearn import metrics"
   ]
  },
  {
   "cell_type": "code",
   "execution_count": 2,
   "id": "0542b1d1",
   "metadata": {},
   "outputs": [],
   "source": [
    "# διαβάζουμε το αρχείο\n",
    "with open(\"Dataset.csv\") as file_name:\n",
    "    array = np.loadtxt(file_name, delimiter=\",\")\n",
    "# το σπάμε στα Χ,Υ\n",
    "X_train=array[:,0:2]\n",
    "Y_train=array[:,2]\n",
    "# αλλάζουμε κλίμακα\n",
    "scaler = preprocessing.MinMaxScaler(feature_range=(0, 1))\n",
    "X_train = scaler.fit_transform(X_train)\n",
    "# stack για μετα\n",
    "XY_train=np.column_stack((X_train,Y_train))"
   ]
  },
  {
   "cell_type": "code",
   "execution_count": 3,
   "id": "b52ee293",
   "metadata": {},
   "outputs": [],
   "source": [
    "names = [\n",
    "    \"Nearest Neighbors 3\",\n",
    "    \"Nearest Neighbors 5\",\n",
    "    \"Linear SVM\",\n",
    "    \"RBF SVM\",\n",
    "    \"Decision Tree\",\n",
    "    \"Random Forest\",\n",
    "    \"AdaBoost\",\n",
    "    \"Naive Bayes\",\n",
    "]\n",
    "# τα πήρα έτοιμα από την sklearn\n",
    "classifiers = [\n",
    "    KNeighborsClassifier(3),\n",
    "    KNeighborsClassifier(5),\n",
    "    SVC(kernel=\"linear\", C=0.025),\n",
    "    SVC(gamma=2, C=1),\n",
    "    DecisionTreeClassifier(max_depth=5),\n",
    "    RandomForestClassifier(max_depth=5, n_estimators=10, max_features=1),\n",
    "    AdaBoostClassifier(),\n",
    "    GaussianNB(),\n",
    "]"
   ]
  },
  {
   "cell_type": "code",
   "execution_count": 4,
   "id": "8d8e2ee8",
   "metadata": {},
   "outputs": [],
   "source": [
    "max=0\n",
    "# κάνουμε iterate για διαφορετικό test set κάθε φορά ανάλογα την resample\n",
    "for gamma in (np.arange(0.1,0.7,0.1)):\n",
    "    # για να δοκιμάσω τους classifiers φτιάχνω test sets μέσω bootstrap\n",
    "    XY_resample= resample(XY_train,n_samples=int(XY_train.shape[0]*gamma) )\n",
    "    Y_test=XY_resample[:,2]\n",
    "    X_test=XY_resample[:,:2]\n",
    "    # iterate για τον καθε classifier\n",
    "    for name,clf in zip(names,classifiers):\n",
    "        # fit predict\n",
    "        clf.fit(X_train,Y_train)\n",
    "        Y_pred=clf.predict(X_test)\n",
    "        accuracy = metrics.accuracy_score(Y_test, Y_pred)\n",
    "        #print(accuracy,name)\n",
    "        # αν έχει το μεγαλύτερο accuracy τον κρατάμε\n",
    "        if(accuracy>max):\n",
    "            max=accuracy\n",
    "            bestclf=clf\n",
    "            bestname=name"
   ]
  },
  {
   "cell_type": "code",
   "execution_count": 5,
   "id": "3e63e953",
   "metadata": {},
   "outputs": [
    {
     "name": "stdout",
     "output_type": "stream",
     "text": [
      "The highest accuracy is: 0.9375 with Nearest Neighbors 3 classifier\n"
     ]
    }
   ],
   "source": [
    "print(\"The highest accuracy is:\",max,\"with\",bestname,\"classifier\")"
   ]
  },
  {
   "cell_type": "code",
   "execution_count": null,
   "id": "dfab8cb7",
   "metadata": {},
   "outputs": [],
   "source": [
    "# ανοιγουμε τα άλλα 2 αρχεία και μετράμε το accuracy\n",
    "with open(\"DatasetVal.csv\") as file_name:\n",
    "    X_Val = np.loadtxt(file_name, delimiter=\",\")\n",
    "Y_predVal = bestclf.predict(X_Val)"
   ]
  },
  {
   "cell_type": "code",
   "execution_count": null,
   "id": "22810eec",
   "metadata": {},
   "outputs": [],
   "source": [
    "with open(\"Labels.csv\") as file_name:\n",
    "    Y_true = np.loadtxt(file_name, delimiter=\",\")"
   ]
  },
  {
   "cell_type": "code",
   "execution_count": null,
   "id": "2ea517cf",
   "metadata": {},
   "outputs": [],
   "source": [
    "print(\"My accuracy with\",bestname,\"classifier is:\",metrics.accuracy_score(Y_true, Y_predVal))"
   ]
  }
 ],
 "metadata": {
  "kernelspec": {
   "display_name": "Python 3 (ipykernel)",
   "language": "python",
   "name": "python3"
  },
  "language_info": {
   "codemirror_mode": {
    "name": "ipython",
    "version": 3
   },
   "file_extension": ".py",
   "mimetype": "text/x-python",
   "name": "python",
   "nbconvert_exporter": "python",
   "pygments_lexer": "ipython3",
   "version": "3.9.12"
  }
 },
 "nbformat": 4,
 "nbformat_minor": 5
}
